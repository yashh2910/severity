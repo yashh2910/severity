{
  "cells": [
    {
      "cell_type": "markdown",
      "metadata": {
        "id": "view-in-github",
        "colab_type": "text"
      },
      "source": [
        "<a href=\"https://colab.research.google.com/github/yashh2910/severity/blob/main/yolov5_for_classification-fender.ipynb\" target=\"_parent\"><img src=\"https://colab.research.google.com/assets/colab-badge.svg\" alt=\"Open In Colab\"/></a>"
      ]
    },
    {
      "cell_type": "code",
      "execution_count": 1,
      "metadata": {
        "colab": {
          "base_uri": "https://localhost:8080/"
        },
        "id": "winUBnI2_ve4",
        "outputId": "e3e00e70-cb18-4b42-8c10-d21ab359b8f9"
      },
      "outputs": [
        {
          "output_type": "stream",
          "name": "stdout",
          "text": [
            "Cloning into 'yolov5'...\n",
            "remote: Enumerating objects: 15814, done.\u001b[K\n",
            "remote: Counting objects: 100% (46/46), done.\u001b[K\n",
            "remote: Compressing objects: 100% (37/37), done.\u001b[K\n",
            "remote: Total 15814 (delta 9), reused 27 (delta 9), pack-reused 15768\u001b[K\n",
            "Receiving objects: 100% (15814/15814), 14.64 MiB | 23.43 MiB/s, done.\n",
            "Resolving deltas: 100% (10821/10821), done.\n",
            "/content/yolov5\n",
            "\u001b[2K     \u001b[90m━━━━━━━━━━━━━━━━━━━━━━━━━━━━━━━━━━━━━━━\u001b[0m \u001b[32m188.5/188.5 kB\u001b[0m \u001b[31m7.6 MB/s\u001b[0m eta \u001b[36m0:00:00\u001b[0m\n",
            "\u001b[2K     \u001b[90m━━━━━━━━━━━━━━━━━━━━━━━━━━━━━━━━━━━━━━\u001b[0m \u001b[32m605.5/605.5 kB\u001b[0m \u001b[31m37.6 MB/s\u001b[0m eta \u001b[36m0:00:00\u001b[0m\n",
            "\u001b[2K     \u001b[90m━━━━━━━━━━━━━━━━━━━━━━━━━━━━━━━━━━━━━━━━\u001b[0m \u001b[32m62.7/62.7 kB\u001b[0m \u001b[31m8.2 MB/s\u001b[0m eta \u001b[36m0:00:00\u001b[0m\n",
            "\u001b[?25h"
          ]
        }
      ],
      "source": [
        "!git clone https://github.com/ultralytics/yolov5  # clone\n",
        "%cd yolov5\n",
        "%pip install -qr requirements.txt  # install"
      ]
    },
    {
      "cell_type": "code",
      "execution_count": 2,
      "metadata": {
        "colab": {
          "base_uri": "https://localhost:8080/"
        },
        "id": "aKmC7xVW_8s8",
        "outputId": "b7f47b1b-4305-4992-ff36-e1756cb7718a"
      },
      "outputs": [
        {
          "output_type": "stream",
          "name": "stdout",
          "text": [
            "/content/yolov5\n"
          ]
        }
      ],
      "source": [
        "%cd /content/yolov5"
      ]
    },
    {
      "cell_type": "code",
      "execution_count": null,
      "metadata": {
        "colab": {
          "base_uri": "https://localhost:8080/"
        },
        "id": "NzL9X0IGArSw",
        "outputId": "00547a23-e72d-4fc4-ede6-459fbcad7f7f"
      },
      "outputs": [
        {
          "output_type": "stream",
          "name": "stdout",
          "text": [
            "Mounted at /content/drive\n"
          ]
        }
      ],
      "source": [
        "# To mount your Google Drive\n",
        "from google.colab import drive\n",
        "drive.mount('/content/drive')"
      ]
    },
    {
      "cell_type": "code",
      "execution_count": 5,
      "metadata": {
        "id": "OWAoLS3sA5Ck"
      },
      "outputs": [],
      "source": [
        "!unzip -q '/content/fender yolo.zip' -d /content"
      ]
    },
    {
      "cell_type": "code",
      "source": [
        "import os\n",
        "from PIL import Image\n",
        "import numpy as np\n",
        "from albumentations.core.composition import Compose\n",
        "from albumentations import (\n",
        "    blur,\n",
        "    ChannelShuffle,\n",
        "    InvertImg,\n",
        "    RandomBrightnessContrast,\n",
        "    Sharpen\n",
        "\n",
        ")\n",
        "from albumentations.augmentations.transforms import RandomBrightnessContrast\n",
        "directory = \"/content/fender yolo/train/major\"\n",
        "\n",
        "# Create the augmentation transformations\n",
        "augmentation = Compose([\n",
        "    ChannelShuffle(),\n",
        "    InvertImg(),\n",
        "    Sharpen()\n",
        "])\n",
        "\n",
        "# Iterate through each image file in the directory\n",
        "for filename in os.listdir(directory):\n",
        "    if filename.endswith(\".jpg\") or filename.endswith(\".png\"):\n",
        "        # Get the path of the original image\n",
        "        image_path = os.path.join(directory, filename)\n",
        "\n",
        "        # Open the original image\n",
        "        image = Image.open(image_path)\n",
        "\n",
        "        # Apply augmentation transformations\n",
        "        augmented_image = augmentation(image=np.array(image))['image']\n",
        "\n",
        "        # Convert the augmented image array back to PIL Image\n",
        "        augmented_image = Image.fromarray(augmented_image)\n",
        "\n",
        "        # Save the augmented image in the same directory with a modified filename\n",
        "        augmented_image.save(os.path.join(directory, \"augmented_\" + filename))"
      ],
      "metadata": {
        "id": "3BvXA_Yrna7G"
      },
      "execution_count": 9,
      "outputs": []
    },
    {
      "cell_type": "code",
      "source": [
        "# !tar -xf /content/drive/MyDrive/frontbumper.tar.xz /content"
      ],
      "metadata": {
        "id": "tCDa3s8wGkN8"
      },
      "execution_count": null,
      "outputs": []
    },
    {
      "cell_type": "code",
      "execution_count": 16,
      "metadata": {
        "colab": {
          "base_uri": "https://localhost:8080/"
        },
        "id": "bm1j4PkABIRq",
        "outputId": "b33e2215-08fb-46f6-a159-283472c5ba12"
      },
      "outputs": [
        {
          "output_type": "stream",
          "name": "stdout",
          "text": [
            "/content\n",
            "/content/yolov5\n"
          ]
        }
      ],
      "source": [
        "%cd ..\n",
        "%cd /content/yolov5/"
      ]
    },
    {
      "cell_type": "code",
      "execution_count": 17,
      "metadata": {
        "colab": {
          "base_uri": "https://localhost:8080/"
        },
        "id": "bmdvw_e_DEx3",
        "outputId": "69970872-bad4-4ab4-c9c5-c7df9e289664"
      },
      "outputs": [
        {
          "output_type": "stream",
          "name": "stdout",
          "text": [
            "Setup complete. Using torch 2.0.1+cu118 _CudaDeviceProperties(name='Tesla T4', major=7, minor=5, total_memory=15101MB, multi_processor_count=40)\n"
          ]
        }
      ],
      "source": [
        "import torch\n",
        "print('Setup complete. Using torch %s %s' % (torch.__version__, torch.cuda.get_device_properties(0) if torch.cuda.is_available() else 'CPU'))"
      ]
    },
    {
      "cell_type": "code",
      "execution_count": 18,
      "metadata": {
        "colab": {
          "base_uri": "https://localhost:8080/"
        },
        "id": "ZzUJpwaiATuY",
        "outputId": "4ed2e013-a460-4623-8347-51052c76af43"
      },
      "outputs": [
        {
          "output_type": "stream",
          "name": "stdout",
          "text": [
            "WARNING ⚠️ 'ultralytics.yolo.v8' is deprecated since '8.0.136' and will be removed in '8.1.0'. Please use 'ultralytics.models.yolo' instead.\n",
            "WARNING ⚠️ 'ultralytics.yolo.utils' is deprecated since '8.0.136' and will be removed in '8.1.0'. Please use 'ultralytics.utils' instead.\n",
            "Note this warning may be related to loading older models. You can update your model to current structure with:\n",
            "    import torch\n",
            "    ckpt = torch.load(\"model.pt\")  # applies to both official and custom models\n",
            "    torch.save(ckpt, \"updated-model.pt\")\n",
            "\n",
            "\u001b[34m\u001b[1mclassify/train: \u001b[0mmodel=yolov5l-cls.pt, data=/content/fender yolo, epochs=100, batch_size=64, imgsz=224, nosave=False, cache=None, device=0, workers=8, project=runs/train-cls, name=exp, exist_ok=False, pretrained=weights/yolov5l-cls.pt, optimizer=Adam, lr0=0.001, decay=5e-05, label_smoothing=0.1, cutoff=None, dropout=None, verbose=False, seed=0, local_rank=-1\n",
            "\u001b[34m\u001b[1mgithub: \u001b[0mup to date with https://github.com/ultralytics/yolov5 ✅\n",
            "YOLOv5 🚀 v7.0-193-g485da42 Python-3.10.12 torch-2.0.1+cu118 CUDA:0 (Tesla T4, 15102MiB)\n",
            "\n",
            "\u001b[34m\u001b[1mTensorBoard: \u001b[0mStart with 'tensorboard --logdir runs/train-cls', view at http://localhost:6006/\n",
            "\u001b[34m\u001b[1malbumentations: \u001b[0mRandomResizedCrop(p=1.0, height=224, width=224, scale=(0.08, 1.0), ratio=(0.75, 1.3333333333333333), interpolation=1), HorizontalFlip(p=0.5), ColorJitter(p=0.5, brightness=[0.6, 1.4], contrast=[0.6, 1.4], saturation=[0.6, 1.4], hue=[0, 0]), Normalize(p=1.0, mean=(0.485, 0.456, 0.406), std=(0.229, 0.224, 0.225), max_pixel_value=255.0), ToTensorV2(always_apply=True, p=1.0, transpose_mask=False)\n",
            "Downloading https://github.com/ultralytics/yolov5/releases/download/v7.0/yolov5l-cls.pt to yolov5l-cls.pt...\n",
            "100% 50.9M/50.9M [00:01<00:00, 52.4MB/s]\n",
            "\n",
            "Model summary: 275 layers, 25275523 parameters, 25275523 gradients, 68.7 GFLOPs\n",
            "\u001b[34m\u001b[1moptimizer:\u001b[0m Adam(lr=0.001) with parameter groups 60 weight(decay=0.0), 61 weight(decay=5e-05), 61 bias\n",
            "Image sizes 224 train, 224 test\n",
            "Using 1 dataloader workers\n",
            "Logging results to \u001b[1mruns/train-cls/exp\u001b[0m\n",
            "Starting yolov5l-cls.pt training on /content/fender yolo dataset with 3 classes for 100 epochs...\n",
            "\n",
            "     Epoch   GPU_mem  train_loss    val_loss    top1_acc    top5_acc\n",
            "     1/100     3.62G        1.16        1.09       0.394           1: 100% 13/13 [00:05<00:00,  2.33it/s]\n",
            "     2/100     4.35G        1.06        1.14       0.382           1: 100% 13/13 [00:03<00:00,  3.71it/s]\n",
            "     3/100     4.35G        1.05        1.19       0.394           1: 100% 13/13 [00:03<00:00,  3.29it/s]\n",
            "     4/100     4.35G        1.06         1.1       0.394           1: 100% 13/13 [00:03<00:00,  3.95it/s]\n",
            "     5/100     4.35G        1.03        1.09       0.394           1: 100% 13/13 [00:03<00:00,  3.73it/s]\n",
            "     6/100     4.35G        1.01        1.15       0.394           1: 100% 13/13 [00:03<00:00,  3.49it/s]\n",
            "     7/100     4.35G        1.02        1.06       0.382           1: 100% 13/13 [00:03<00:00,  4.05it/s]\n",
            "     8/100     4.35G        1.02        1.07       0.388           1: 100% 13/13 [00:03<00:00,  3.87it/s]\n",
            "     9/100     4.35G        1.02        1.05        0.43           1: 100% 13/13 [00:04<00:00,  3.01it/s]\n",
            "    10/100     4.35G        1.02        1.28       0.376           1: 100% 13/13 [00:03<00:00,  3.99it/s]\n",
            "    11/100     4.35G        1.02        1.24       0.327           1: 100% 13/13 [00:03<00:00,  4.04it/s]\n",
            "    12/100     4.35G       0.991        1.34       0.285           1: 100% 13/13 [00:04<00:00,  2.97it/s]\n",
            "    13/100     4.35G        1.03        2.03       0.303           1: 100% 13/13 [00:03<00:00,  3.99it/s]\n",
            "    14/100     4.35G        1.02        1.15       0.333           1: 100% 13/13 [00:03<00:00,  4.01it/s]\n",
            "    15/100     4.35G       0.998        1.03       0.448           1: 100% 13/13 [00:04<00:00,  3.07it/s]\n",
            "    16/100     4.35G       0.994        1.28       0.248           1: 100% 13/13 [00:03<00:00,  4.05it/s]\n",
            "    17/100     4.35G        1.01        1.18       0.321           1: 100% 13/13 [00:03<00:00,  3.91it/s]\n",
            "    18/100     4.35G        1.04        6.41       0.255           1: 100% 13/13 [00:03<00:00,  3.44it/s]\n",
            "    19/100     4.35G        1.02        1.04       0.448           1: 100% 13/13 [00:03<00:00,  3.51it/s]\n",
            "    20/100     4.35G        1.02        1.26       0.327           1: 100% 13/13 [00:03<00:00,  3.96it/s]\n",
            "    21/100     4.35G       0.991        1.08       0.382           1: 100% 13/13 [00:03<00:00,  3.84it/s]\n",
            "    22/100     4.35G        1.01        1.52       0.279           1: 100% 13/13 [00:03<00:00,  3.38it/s]\n",
            "    23/100     4.35G           1        1.22       0.321           1: 100% 13/13 [00:03<00:00,  3.82it/s]\n",
            "    24/100     4.35G       0.994        1.05       0.412           1: 100% 13/13 [00:03<00:00,  3.94it/s]\n",
            "    25/100     4.35G       0.973        1.02       0.394           1: 100% 13/13 [00:04<00:00,  2.97it/s]\n",
            "    26/100     4.35G       0.967           1       0.527           1: 100% 13/13 [00:03<00:00,  3.81it/s]\n",
            "    27/100     4.35G       0.984        1.08       0.327           1: 100% 13/13 [00:04<00:00,  2.93it/s]\n",
            "    28/100     4.35G       0.973        1.05       0.394           1: 100% 13/13 [00:04<00:00,  3.24it/s]\n",
            "    29/100     4.35G       0.982        1.03       0.448           1: 100% 13/13 [00:03<00:00,  3.89it/s]\n",
            "    30/100     4.35G       0.964        1.06       0.442           1: 100% 13/13 [00:03<00:00,  3.91it/s]\n",
            "    31/100     4.35G       0.971        1.07         0.4           1: 100% 13/13 [00:04<00:00,  3.00it/s]\n",
            "    32/100     4.35G       0.958        1.03       0.436           1: 100% 13/13 [00:03<00:00,  4.00it/s]\n",
            "    33/100     4.35G       0.948        1.08       0.455           1: 100% 13/13 [00:03<00:00,  3.94it/s]\n",
            "    34/100     4.35G       0.935        1.11       0.388           1: 100% 13/13 [00:04<00:00,  3.04it/s]\n",
            "    35/100     4.35G       0.959        1.21       0.376           1: 100% 13/13 [00:03<00:00,  3.94it/s]\n",
            "    36/100     4.35G       0.963        1.76       0.255           1: 100% 13/13 [00:03<00:00,  3.83it/s]\n",
            "    37/100     4.35G       0.943         1.2       0.358           1: 100% 13/13 [00:04<00:00,  3.06it/s]\n",
            "    38/100     4.35G        0.97       0.988       0.479           1: 100% 13/13 [00:03<00:00,  3.87it/s]\n",
            "    39/100     4.35G       0.955        1.22       0.297           1: 100% 13/13 [00:03<00:00,  3.85it/s]\n",
            "    40/100     4.35G        0.95        1.04         0.4           1: 100% 13/13 [00:03<00:00,  3.36it/s]\n",
            "    41/100     4.35G       0.939       0.986       0.461           1: 100% 13/13 [00:03<00:00,  3.61it/s]\n",
            "    42/100     4.35G       0.946        1.04       0.418           1: 100% 13/13 [00:03<00:00,  3.80it/s]\n",
            "    43/100     4.35G       0.959        1.09       0.412           1: 100% 13/13 [00:03<00:00,  3.91it/s]\n",
            "    44/100     4.35G       0.934        1.07       0.412           1: 100% 13/13 [00:04<00:00,  3.21it/s]\n",
            "    45/100     4.35G       0.951        1.01       0.448           1: 100% 13/13 [00:03<00:00,  3.87it/s]\n",
            "    46/100     4.35G       0.941        1.04       0.412           1: 100% 13/13 [00:03<00:00,  3.87it/s]\n",
            "    47/100     4.35G       0.941        1.07       0.467           1: 100% 13/13 [00:04<00:00,  2.98it/s]\n",
            "    48/100     4.35G       0.941       0.996       0.467           1: 100% 13/13 [00:03<00:00,  3.82it/s]\n",
            "    49/100     4.35G       0.921        1.11       0.442           1: 100% 13/13 [00:03<00:00,  3.83it/s]\n",
            "    50/100     4.35G       0.924         1.2       0.388           1: 100% 13/13 [00:04<00:00,  2.97it/s]\n",
            "    51/100     4.35G       0.922        1.03       0.418           1: 100% 13/13 [00:03<00:00,  3.81it/s]\n",
            "    52/100     4.35G       0.916        1.02       0.461           1: 100% 13/13 [00:03<00:00,  3.86it/s]\n",
            "    53/100     4.35G       0.923        1.03       0.448           1: 100% 13/13 [00:04<00:00,  2.97it/s]\n",
            "    54/100     4.35G        0.94       0.982       0.509           1: 100% 13/13 [00:03<00:00,  3.74it/s]\n",
            "    55/100     4.35G       0.924         1.1       0.412           1: 100% 13/13 [00:03<00:00,  4.00it/s]\n",
            "    56/100     4.35G        0.93        1.54       0.273           1: 100% 13/13 [00:04<00:00,  3.20it/s]\n",
            "    57/100     4.35G       0.932        1.15         0.4           1: 100% 13/13 [00:03<00:00,  3.68it/s]\n",
            "    58/100     4.35G        0.91         1.1       0.418           1: 100% 13/13 [00:03<00:00,  3.88it/s]\n",
            "    59/100     4.35G       0.931        1.09       0.467           1: 100% 13/13 [00:03<00:00,  3.84it/s]\n",
            "    60/100     4.35G       0.909        0.99       0.521           1: 100% 13/13 [00:04<00:00,  3.23it/s]\n",
            "    61/100     4.35G       0.918       0.958       0.509           1: 100% 13/13 [00:03<00:00,  3.91it/s]\n",
            "    62/100     4.35G       0.902        1.05       0.479           1: 100% 13/13 [00:03<00:00,  3.99it/s]\n",
            "    63/100     4.35G       0.927        1.09       0.436           1: 100% 13/13 [00:04<00:00,  2.96it/s]\n",
            "    64/100     4.35G       0.906        1.09       0.388           1: 100% 13/13 [00:03<00:00,  3.79it/s]\n",
            "    65/100     4.35G       0.891        1.09       0.448           1: 100% 13/13 [00:03<00:00,  3.92it/s]\n",
            "    66/100     4.35G        0.89        1.54       0.273           1: 100% 13/13 [00:04<00:00,  2.99it/s]\n",
            "    67/100     4.35G       0.935        1.68       0.467           1: 100% 13/13 [00:03<00:00,  3.78it/s]\n",
            "    68/100     4.35G       0.928        1.07       0.455           1: 100% 13/13 [00:03<00:00,  3.79it/s]\n",
            "    69/100     4.35G       0.914        1.18         0.4           1: 100% 13/13 [00:04<00:00,  3.19it/s]\n",
            "    70/100     4.35G       0.893         1.3       0.333           1: 100% 13/13 [00:03<00:00,  3.59it/s]\n",
            "    71/100     4.35G       0.913        1.11       0.479           1: 100% 13/13 [00:03<00:00,  3.82it/s]\n",
            "    72/100     4.35G       0.911       0.972       0.491           1: 100% 13/13 [00:03<00:00,  3.72it/s]\n",
            "    73/100     4.35G       0.904        1.05       0.491           1: 100% 13/13 [00:04<00:00,  3.24it/s]\n",
            "    74/100     4.35G       0.903        1.07        0.43           1: 100% 13/13 [00:03<00:00,  3.92it/s]\n",
            "    75/100     4.35G       0.898       0.999       0.485           1: 100% 13/13 [00:03<00:00,  3.91it/s]\n",
            "    76/100     4.35G       0.887        1.02       0.461           1: 100% 13/13 [00:04<00:00,  3.06it/s]\n",
            "    77/100     4.35G       0.889       0.971       0.467           1: 100% 13/13 [00:03<00:00,  4.00it/s]\n",
            "    78/100     4.35G       0.891       0.974       0.503           1: 100% 13/13 [00:03<00:00,  3.85it/s]\n",
            "    79/100     4.35G       0.897       0.976       0.545           1: 100% 13/13 [00:04<00:00,  3.02it/s]\n",
            "    80/100     4.35G       0.878        1.03       0.479           1: 100% 13/13 [00:03<00:00,  3.99it/s]\n",
            "    81/100     4.35G       0.886       0.983       0.521           1: 100% 13/13 [00:03<00:00,  3.91it/s]\n",
            "    82/100     4.35G       0.898       0.998       0.497           1: 100% 13/13 [00:03<00:00,  3.25it/s]\n",
            "    83/100     4.35G       0.876        1.01       0.503           1: 100% 13/13 [00:03<00:00,  3.67it/s]\n",
            "    84/100     4.35G       0.913        1.04       0.467           1: 100% 13/13 [00:03<00:00,  3.80it/s]\n",
            "    85/100     4.35G       0.881        1.07       0.467           1: 100% 13/13 [00:03<00:00,  3.55it/s]\n",
            "    86/100     4.35G       0.868        0.98       0.521           1: 100% 13/13 [00:04<00:00,  2.69it/s]\n",
            "    87/100     4.35G       0.858       0.993       0.515           1: 100% 13/13 [00:03<00:00,  3.95it/s]\n",
            "    88/100     4.35G       0.866        1.05       0.509           1: 100% 13/13 [00:03<00:00,  3.69it/s]\n",
            "    89/100     4.35G       0.878        1.04       0.467           1: 100% 13/13 [00:04<00:00,  2.99it/s]\n",
            "    90/100     4.35G       0.867        0.97       0.497           1: 100% 13/13 [00:03<00:00,  3.92it/s]\n",
            "    91/100     4.35G       0.865       0.981       0.509           1: 100% 13/13 [00:03<00:00,  3.95it/s]\n",
            "    92/100     4.35G        0.87       0.987       0.503           1: 100% 13/13 [00:04<00:00,  2.97it/s]\n",
            "    93/100     4.35G       0.867       0.979       0.533           1: 100% 13/13 [00:03<00:00,  3.96it/s]\n",
            "    94/100     4.35G       0.862       0.966       0.515           1: 100% 13/13 [00:03<00:00,  3.88it/s]\n",
            "    95/100     4.35G       0.863        1.01       0.473           1: 100% 13/13 [00:03<00:00,  3.29it/s]\n",
            "    96/100     4.35G       0.874       0.979       0.473           1: 100% 13/13 [00:03<00:00,  3.79it/s]\n",
            "    97/100     4.35G       0.883        1.03       0.473           1: 100% 13/13 [00:03<00:00,  3.80it/s]\n",
            "    98/100     4.35G       0.834       0.953       0.497           1: 100% 13/13 [00:03<00:00,  3.88it/s]\n",
            "    99/100     4.35G       0.865        0.98       0.479           1: 100% 13/13 [00:03<00:00,  3.29it/s]\n",
            "   100/100     4.35G       0.864       0.939       0.473           1: 100% 13/13 [00:03<00:00,  3.86it/s]\n",
            "\n",
            "Training complete (0.115 hours)\n",
            "Results saved to \u001b[1mruns/train-cls/exp\u001b[0m\n",
            "Predict:         python classify/predict.py --weights runs/train-cls/exp/weights/best.pt --source im.jpg\n",
            "Validate:        python classify/val.py --weights runs/train-cls/exp/weights/best.pt --data /content/fender yolo\n",
            "Export:          python export.py --weights runs/train-cls/exp/weights/best.pt --include onnx\n",
            "PyTorch Hub:     model = torch.hub.load('ultralytics/yolov5', 'custom', 'runs/train-cls/exp/weights/best.pt')\n",
            "Visualize:       https://netron.app\n",
            "\n"
          ]
        }
      ],
      "source": [
        "!python classify/train.py --model yolov5l-cls.pt --data '/content/fender yolo' --epochs 100 --pretrained weights/yolov5l-cls.pt --device 0"
      ]
    },
    {
      "cell_type": "code",
      "execution_count": 20,
      "metadata": {
        "colab": {
          "base_uri": "https://localhost:8080/"
        },
        "id": "bk5L7ITCAZ8h",
        "outputId": "a1d24a01-a605-4578-b526-ffc1dca877b0"
      },
      "outputs": [
        {
          "output_type": "stream",
          "name": "stdout",
          "text": [
            "WARNING ⚠️ 'ultralytics.yolo.v8' is deprecated since '8.0.136' and will be removed in '8.1.0'. Please use 'ultralytics.models.yolo' instead.\n",
            "WARNING ⚠️ 'ultralytics.yolo.utils' is deprecated since '8.0.136' and will be removed in '8.1.0'. Please use 'ultralytics.utils' instead.\n",
            "Note this warning may be related to loading older models. You can update your model to current structure with:\n",
            "    import torch\n",
            "    ckpt = torch.load(\"model.pt\")  # applies to both official and custom models\n",
            "    torch.save(ckpt, \"updated-model.pt\")\n",
            "\n",
            "\u001b[34m\u001b[1mclassify/val: \u001b[0mdata=/content/fender yolo, weights=['/content/yolov5/runs/train-cls/exp/weights/best.pt'], batch_size=128, imgsz=224, device=, workers=8, verbose=True, project=runs/val-cls, name=exp, exist_ok=False, half=False, dnn=False\n",
            "YOLOv5 🚀 v7.0-193-g485da42 Python-3.10.12 torch-2.0.1+cu118 CUDA:0 (Tesla T4, 15102MiB)\n",
            "\n",
            "Fusing layers... \n",
            "Model summary: 215 layers, 25258819 parameters, 0 gradients, 68.3 GFLOPs\n",
            "validating: 100% 2/2 [00:01<00:00,  1.88it/s]\n",
            "                   Class      Images    top1_acc    top5_acc\n",
            "                     all         165       0.545           1\n",
            "                   major          37        0.73           1\n",
            "                   minor          65       0.569           1\n",
            "                moderate          63       0.413           1\n",
            "Speed: 0.1ms pre-process, 3.1ms inference, 0.2ms post-process per image at shape (1, 3, 224, 224)\n",
            "Results saved to \u001b[1mruns/val-cls/exp\u001b[0m\n"
          ]
        }
      ],
      "source": [
        "!python classify/val.py --weights /content/yolov5/runs/train-cls/exp/weights/best.pt --data '/content/fender yolo'"
      ]
    },
    {
      "cell_type": "code",
      "execution_count": null,
      "metadata": {
        "id": "BavM4YfhFgn0"
      },
      "outputs": [],
      "source": []
    }
  ],
  "metadata": {
    "accelerator": "GPU",
    "colab": {
      "provenance": [],
      "gpuType": "T4",
      "include_colab_link": true
    },
    "kernelspec": {
      "display_name": "Python 3",
      "name": "python3"
    },
    "language_info": {
      "name": "python"
    }
  },
  "nbformat": 4,
  "nbformat_minor": 0
}