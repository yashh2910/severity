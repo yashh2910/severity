{
  "cells": [
    {
      "cell_type": "markdown",
      "metadata": {
        "id": "view-in-github",
        "colab_type": "text"
      },
      "source": [
        "<a href=\"https://colab.research.google.com/github/yashh2910/severity/blob/main/yolov5_for_classification-all-data.ipynb\" target=\"_parent\"><img src=\"https://colab.research.google.com/assets/colab-badge.svg\" alt=\"Open In Colab\"/></a>"
      ]
    },
    {
      "cell_type": "code",
      "execution_count": 10,
      "metadata": {
        "colab": {
          "base_uri": "https://localhost:8080/"
        },
        "id": "winUBnI2_ve4",
        "outputId": "4d7d3d37-0bd3-4e76-f9f6-74030b39b176"
      },
      "outputs": [
        {
          "output_type": "stream",
          "name": "stdout",
          "text": [
            "Cloning into 'yolov5'...\n",
            "remote: Enumerating objects: 15814, done.\u001b[K\n",
            "remote: Counting objects: 100% (45/45), done.\u001b[K\n",
            "remote: Compressing objects: 100% (43/43), done.\u001b[K\n",
            "remote: Total 15814 (delta 9), reused 22 (delta 2), pack-reused 15769\u001b[K\n",
            "Receiving objects: 100% (15814/15814), 14.59 MiB | 29.29 MiB/s, done.\n",
            "Resolving deltas: 100% (10823/10823), done.\n",
            "/content/yolov5/yolov5\n"
          ]
        }
      ],
      "source": [
        "!git clone https://github.com/ultralytics/yolov5  # clone\n",
        "%cd yolov5\n",
        "%pip install -qr requirements.txt  # install"
      ]
    },
    {
      "cell_type": "code",
      "execution_count": 11,
      "metadata": {
        "colab": {
          "base_uri": "https://localhost:8080/"
        },
        "id": "aKmC7xVW_8s8",
        "outputId": "d4b981ff-8fdd-478c-b217-fe688c56e37a"
      },
      "outputs": [
        {
          "output_type": "stream",
          "name": "stdout",
          "text": [
            "/content/yolov5\n"
          ]
        }
      ],
      "source": [
        "%cd /content/yolov5"
      ]
    },
    {
      "cell_type": "code",
      "execution_count": 15,
      "metadata": {
        "colab": {
          "base_uri": "https://localhost:8080/"
        },
        "id": "NzL9X0IGArSw",
        "outputId": "00547a23-e72d-4fc4-ede6-459fbcad7f7f"
      },
      "outputs": [
        {
          "output_type": "stream",
          "name": "stdout",
          "text": [
            "Mounted at /content/drive\n"
          ]
        }
      ],
      "source": [
        "# To mount your Google Drive\n",
        "from google.colab import drive\n",
        "drive.mount('/content/drive')"
      ]
    },
    {
      "cell_type": "code",
      "execution_count": 16,
      "metadata": {
        "id": "OWAoLS3sA5Ck"
      },
      "outputs": [],
      "source": [
        "!unzip -q '/content/drive/MyDrive/Severity/all_data_yolo.zip' -d /content"
      ]
    },
    {
      "cell_type": "code",
      "source": [
        "# !tar -xf /content/drive/MyDrive/frontbumper.tar.xz /content"
      ],
      "metadata": {
        "id": "tCDa3s8wGkN8"
      },
      "execution_count": 13,
      "outputs": []
    },
    {
      "cell_type": "code",
      "execution_count": 17,
      "metadata": {
        "colab": {
          "base_uri": "https://localhost:8080/"
        },
        "id": "bm1j4PkABIRq",
        "outputId": "bc153704-e1e0-408c-e6e9-5941327bbffd"
      },
      "outputs": [
        {
          "output_type": "stream",
          "name": "stdout",
          "text": [
            "/content\n",
            "/content/yolov5\n"
          ]
        }
      ],
      "source": [
        "%cd ..\n",
        "%cd /content/yolov5/"
      ]
    },
    {
      "cell_type": "code",
      "execution_count": 18,
      "metadata": {
        "colab": {
          "base_uri": "https://localhost:8080/"
        },
        "id": "bmdvw_e_DEx3",
        "outputId": "884da4cd-3774-45c3-bf18-9e6c1abea19e"
      },
      "outputs": [
        {
          "output_type": "stream",
          "name": "stdout",
          "text": [
            "Setup complete. Using torch 2.0.1+cu118 _CudaDeviceProperties(name='Tesla T4', major=7, minor=5, total_memory=15101MB, multi_processor_count=40)\n"
          ]
        }
      ],
      "source": [
        "import torch\n",
        "print('Setup complete. Using torch %s %s' % (torch.__version__, torch.cuda.get_device_properties(0) if torch.cuda.is_available() else 'CPU'))"
      ]
    },
    {
      "cell_type": "code",
      "execution_count": 19,
      "metadata": {
        "colab": {
          "base_uri": "https://localhost:8080/"
        },
        "id": "ZzUJpwaiATuY",
        "outputId": "b2319213-3bf9-462e-fe9d-73f2a8397832"
      },
      "outputs": [
        {
          "output_type": "stream",
          "name": "stdout",
          "text": [
            "WARNING ⚠️ 'ultralytics.yolo.v8' is deprecated since '8.0.136' and will be removed in '8.1.0'. Please use 'ultralytics.models.yolo' instead.\n",
            "WARNING ⚠️ 'ultralytics.yolo.utils' is deprecated since '8.0.136' and will be removed in '8.1.0'. Please use 'ultralytics.utils' instead.\n",
            "Note this warning may be related to loading older models. You can update your model to current structure with:\n",
            "    import torch\n",
            "    ckpt = torch.load(\"model.pt\")  # applies to both official and custom models\n",
            "    torch.save(ckpt, \"updated-model.pt\")\n",
            "\n",
            "\u001b[34m\u001b[1mclassify/train: \u001b[0mmodel=yolov5l-cls.pt, data=/content/all_data_yolo, epochs=100, batch_size=64, imgsz=224, nosave=False, cache=None, device=0, workers=8, project=runs/train-cls, name=exp, exist_ok=False, pretrained=weights/yolov5l-cls.pt, optimizer=Adam, lr0=0.001, decay=5e-05, label_smoothing=0.1, cutoff=None, dropout=None, verbose=False, seed=0, local_rank=-1\n",
            "\u001b[34m\u001b[1mgithub: \u001b[0mup to date with https://github.com/ultralytics/yolov5 ✅\n",
            "YOLOv5 🚀 v7.0-193-g485da42 Python-3.10.12 torch-2.0.1+cu118 CUDA:0 (Tesla T4, 15102MiB)\n",
            "\n",
            "\u001b[34m\u001b[1mTensorBoard: \u001b[0mStart with 'tensorboard --logdir runs/train-cls', view at http://localhost:6006/\n",
            "\u001b[34m\u001b[1malbumentations: \u001b[0mRandomResizedCrop(p=1.0, height=224, width=224, scale=(0.08, 1.0), ratio=(0.75, 1.3333333333333333), interpolation=1), HorizontalFlip(p=0.5), ColorJitter(p=0.5, brightness=[0.6, 1.4], contrast=[0.6, 1.4], saturation=[0.6, 1.4], hue=[0, 0]), Normalize(p=1.0, mean=(0.485, 0.456, 0.406), std=(0.229, 0.224, 0.225), max_pixel_value=255.0), ToTensorV2(always_apply=True, p=1.0, transpose_mask=False)\n",
            "Model summary: 275 layers, 25275523 parameters, 25275523 gradients, 68.7 GFLOPs\n",
            "\u001b[34m\u001b[1moptimizer:\u001b[0m Adam(lr=0.001) with parameter groups 60 weight(decay=0.0), 61 weight(decay=5e-05), 61 bias\n",
            "Image sizes 224 train, 224 test\n",
            "Using 1 dataloader workers\n",
            "Logging results to \u001b[1mruns/train-cls/exp2\u001b[0m\n",
            "Starting yolov5l-cls.pt training on /content/all_data_yolo dataset with 3 classes for 100 epochs...\n",
            "\n",
            "     Epoch   GPU_mem  train_loss    val_loss    top1_acc    top5_acc\n",
            "     1/100     3.62G        1.15        1.09       0.414           1: 100% 37/37 [00:12<00:00,  2.85it/s]\n",
            "     2/100     4.35G        1.09        1.08       0.414           1: 100% 37/37 [00:12<00:00,  2.96it/s]\n",
            "     3/100     4.35G         1.1        1.08       0.419           1: 100% 37/37 [00:12<00:00,  2.94it/s]\n",
            "     4/100     4.35G        1.09        1.52       0.419           1: 100% 37/37 [00:12<00:00,  2.97it/s]\n",
            "     5/100     4.35G         1.1        1.08       0.419           1: 100% 37/37 [00:12<00:00,  2.95it/s]\n",
            "     6/100     4.35G        1.09        1.09       0.419           1: 100% 37/37 [00:12<00:00,  2.95it/s]\n",
            "     7/100     4.35G        1.09        1.08       0.422           1: 100% 37/37 [00:12<00:00,  3.01it/s]\n",
            "     8/100     4.35G        1.09        1.08       0.414           1: 100% 37/37 [00:12<00:00,  2.99it/s]\n",
            "     9/100     4.35G        1.09        1.08       0.414           1: 100% 37/37 [00:12<00:00,  2.91it/s]\n",
            "    10/100     4.35G        1.09         1.1       0.381           1: 100% 37/37 [00:12<00:00,  2.97it/s]\n",
            "    11/100     4.35G        1.08        1.24       0.417           1: 100% 37/37 [00:12<00:00,  2.89it/s]\n",
            "    12/100     4.35G        1.08        1.07       0.416           1: 100% 37/37 [00:12<00:00,  2.92it/s]\n",
            "    13/100     4.35G        1.08        1.15       0.419           1: 100% 37/37 [00:12<00:00,  2.96it/s]\n",
            "    14/100     4.35G        1.07         1.1       0.333           1: 100% 37/37 [00:12<00:00,  2.96it/s]\n",
            "    15/100     4.35G        1.08        1.09        0.36           1: 100% 37/37 [00:12<00:00,  2.91it/s]\n",
            "    16/100     4.35G        1.07        1.08       0.403           1: 100% 37/37 [00:12<00:00,  2.91it/s]\n",
            "    17/100     4.35G        1.07        1.08       0.395           1: 100% 37/37 [00:12<00:00,  2.91it/s]\n",
            "    18/100     4.35G        1.07        1.07       0.407           1: 100% 37/37 [00:12<00:00,  2.95it/s]\n",
            "    19/100     4.35G        1.06        1.06       0.453           1: 100% 37/37 [00:12<00:00,  2.91it/s]\n",
            "    20/100     4.35G        1.07        1.05       0.429           1: 100% 37/37 [00:12<00:00,  2.92it/s]\n",
            "    21/100     4.35G        1.07        1.05       0.428           1: 100% 37/37 [00:12<00:00,  2.89it/s]\n",
            "    22/100     4.35G        1.06        1.08       0.424           1: 100% 37/37 [00:12<00:00,  2.91it/s]\n",
            "    23/100     4.35G        1.06        1.07        0.45           1: 100% 37/37 [00:12<00:00,  2.92it/s]\n",
            "    24/100     4.35G        1.06        1.07       0.416           1: 100% 37/37 [00:12<00:00,  3.03it/s]\n",
            "    25/100     4.35G        1.06        1.07       0.433           1: 100% 37/37 [00:11<00:00,  3.11it/s]\n",
            "    26/100     4.35G        1.07        1.09       0.398           1: 100% 37/37 [00:11<00:00,  3.08it/s]\n",
            "    27/100     4.35G        1.06        1.07       0.395           1: 100% 37/37 [00:12<00:00,  2.98it/s]\n",
            "    28/100     4.35G        1.06        1.12        0.34           1: 100% 37/37 [00:12<00:00,  2.93it/s]\n",
            "    29/100     4.35G        1.05        1.07       0.424           1: 100% 37/37 [00:12<00:00,  2.94it/s]\n",
            "    30/100     4.35G        1.05        1.05       0.462           1: 100% 37/37 [00:14<00:00,  2.64it/s]\n",
            "    31/100     4.35G        1.05        1.09       0.436           1: 100% 37/37 [00:12<00:00,  2.95it/s]\n",
            "    32/100     4.35G        1.04        1.05       0.455           1: 100% 37/37 [00:12<00:00,  2.95it/s]\n",
            "    33/100     4.35G        1.04        1.09       0.367           1: 100% 37/37 [00:12<00:00,  2.95it/s]\n",
            "    34/100     4.35G        1.05        1.07       0.426           1: 100% 37/37 [00:12<00:00,  2.96it/s]\n",
            "    35/100     4.35G        1.04        1.04       0.469           1: 100% 37/37 [00:12<00:00,  2.93it/s]\n",
            "    36/100     4.35G        1.03        1.06       0.472           1: 100% 37/37 [00:12<00:00,  2.99it/s]\n",
            "    37/100     4.35G        1.03        1.06       0.474           1: 100% 37/37 [00:12<00:00,  2.98it/s]\n",
            "    38/100     4.35G        1.02        1.14       0.383           1: 100% 37/37 [00:12<00:00,  2.98it/s]\n",
            "    39/100     4.35G        1.01           1       0.534           1: 100% 37/37 [00:12<00:00,  2.92it/s]\n",
            "    40/100     4.35G           1       0.974       0.529           1: 100% 37/37 [00:12<00:00,  2.95it/s]\n",
            "    41/100     4.35G        1.02        1.38        0.44           1: 100% 37/37 [00:12<00:00,  2.91it/s]\n",
            "    42/100     4.35G        1.01        1.14       0.472           1: 100% 37/37 [00:12<00:00,  2.96it/s]\n",
            "    43/100     4.35G        1.01       0.999       0.491           1: 100% 37/37 [00:12<00:00,  3.00it/s]\n",
            "    44/100     4.35G        1.01        1.01         0.5           1: 100% 37/37 [00:12<00:00,  2.99it/s]\n",
            "    45/100     4.35G        0.99       0.986       0.519           1: 100% 37/37 [00:12<00:00,  3.07it/s]\n",
            "    46/100     4.35G       0.998       0.992       0.519           1: 100% 37/37 [00:12<00:00,  3.02it/s]\n",
            "    47/100     4.35G       0.993       0.965       0.522           1: 100% 37/37 [00:12<00:00,  2.94it/s]\n",
            "    48/100     4.35G       0.994        1.07       0.498           1: 100% 37/37 [00:12<00:00,  2.89it/s]\n",
            "    49/100     4.35G           1       0.997       0.528           1: 100% 37/37 [00:12<00:00,  2.94it/s]\n",
            "    50/100     4.35G       0.988        1.03       0.502           1: 100% 37/37 [00:13<00:00,  2.66it/s]\n",
            "    51/100     4.35G       0.978        1.03       0.497           1: 100% 37/37 [00:12<00:00,  2.96it/s]\n",
            "    52/100     4.35G       0.995       0.986       0.529           1: 100% 37/37 [00:12<00:00,  2.92it/s]\n",
            "    53/100     4.35G        0.98        1.05       0.455           1: 100% 37/37 [00:12<00:00,  2.95it/s]\n",
            "    54/100     4.35G       0.983           1       0.495           1: 100% 37/37 [00:12<00:00,  2.90it/s]\n",
            "    55/100     4.35G       0.986        1.06       0.495           1: 100% 37/37 [00:12<00:00,  2.92it/s]\n",
            "    56/100     4.35G       0.981        1.07       0.474           1: 100% 37/37 [00:12<00:00,  2.93it/s]\n",
            "    57/100     4.35G       0.981       0.995        0.51           1: 100% 37/37 [00:12<00:00,  2.92it/s]\n",
            "    58/100     4.35G       0.981       0.969       0.534           1: 100% 37/37 [00:12<00:00,  2.93it/s]\n",
            "    59/100     4.35G       0.975       0.995        0.49           1: 100% 37/37 [00:12<00:00,  2.97it/s]\n",
            "    60/100     4.35G        0.97        1.04       0.467           1: 100% 37/37 [00:12<00:00,  2.92it/s]\n",
            "    61/100     4.35G       0.981       0.979       0.488           1: 100% 37/37 [00:12<00:00,  2.92it/s]\n",
            "    62/100     4.35G       0.975       0.968       0.529           1: 100% 37/37 [00:12<00:00,  3.01it/s]\n",
            "    63/100     4.35G       0.973       0.986       0.505           1: 100% 37/37 [00:11<00:00,  3.11it/s]\n",
            "    64/100     4.35G       0.965       0.981       0.505           1: 100% 37/37 [00:12<00:00,  3.04it/s]\n",
            "    65/100     4.35G       0.969       0.959       0.555           1: 100% 37/37 [00:12<00:00,  2.89it/s]\n",
            "    66/100     4.35G       0.964       0.959       0.538           1: 100% 37/37 [00:12<00:00,  2.94it/s]\n",
            "    67/100     4.35G       0.952       0.963       0.545           1: 100% 37/37 [00:12<00:00,  2.92it/s]\n",
            "    68/100     4.35G       0.979       0.965       0.538           1: 100% 37/37 [00:12<00:00,  2.91it/s]\n",
            "    69/100     4.35G       0.956       0.967       0.524           1: 100% 37/37 [00:12<00:00,  2.94it/s]\n",
            "    70/100     4.35G        0.96       0.973       0.517           1: 100% 37/37 [00:13<00:00,  2.68it/s]\n",
            "    71/100     4.35G       0.959       0.963       0.533           1: 100% 37/37 [00:12<00:00,  2.93it/s]\n",
            "    72/100     4.35G       0.952        0.98       0.503           1: 100% 37/37 [00:12<00:00,  2.94it/s]\n",
            "    73/100     4.35G       0.958       0.982        0.51           1: 100% 37/37 [00:12<00:00,  2.92it/s]\n",
            "    74/100     4.35G       0.956        0.97       0.517           1: 100% 37/37 [00:12<00:00,  2.95it/s]\n",
            "    75/100     4.35G       0.956       0.975       0.519           1: 100% 37/37 [00:12<00:00,  2.91it/s]\n",
            "    76/100     4.35G        0.95        1.01       0.507           1: 100% 37/37 [00:12<00:00,  2.89it/s]\n",
            "    77/100     4.35G       0.948       0.996       0.503           1: 100% 37/37 [00:12<00:00,  2.90it/s]\n",
            "    78/100     4.35G       0.948       0.956       0.543           1: 100% 37/37 [00:12<00:00,  2.92it/s]\n",
            "    79/100     4.35G       0.938       0.969       0.533           1: 100% 37/37 [00:12<00:00,  2.94it/s]\n",
            "    80/100     4.35G       0.944       0.956       0.555           1: 100% 37/37 [00:12<00:00,  3.03it/s]\n",
            "    81/100     4.35G       0.939       0.974       0.526           1: 100% 37/37 [00:11<00:00,  3.11it/s]\n",
            "    82/100     4.35G       0.947        0.96       0.541           1: 100% 37/37 [00:12<00:00,  3.06it/s]\n",
            "    83/100     4.35G       0.936       0.955        0.55           1: 100% 37/37 [00:12<00:00,  2.94it/s]\n",
            "    84/100     4.35G       0.944       0.954       0.541           1: 100% 37/37 [00:12<00:00,  2.92it/s]\n",
            "    85/100     4.35G       0.942       0.952       0.534           1: 100% 37/37 [00:12<00:00,  2.92it/s]\n",
            "    86/100     4.35G       0.929       0.964       0.514           1: 100% 37/37 [00:12<00:00,  2.98it/s]\n",
            "    87/100     4.35G       0.942        0.95       0.559           1: 100% 37/37 [00:12<00:00,  2.90it/s]\n",
            "    88/100     4.35G       0.937       0.959       0.538           1: 100% 37/37 [00:12<00:00,  2.94it/s]\n",
            "    89/100     4.35G        0.93       0.959       0.536           1: 100% 37/37 [00:12<00:00,  2.91it/s]\n",
            "    90/100     4.35G       0.943       0.951       0.528           1: 100% 37/37 [00:14<00:00,  2.59it/s]\n",
            "    91/100     4.35G       0.932       0.962       0.526           1: 100% 37/37 [00:12<00:00,  2.92it/s]\n",
            "    92/100     4.35G       0.926       0.986       0.526           1: 100% 37/37 [00:12<00:00,  2.91it/s]\n",
            "    93/100     4.35G       0.935       0.952       0.541           1: 100% 37/37 [00:12<00:00,  2.92it/s]\n",
            "    94/100     4.35G       0.921       0.958       0.524           1: 100% 37/37 [00:12<00:00,  2.94it/s]\n",
            "    95/100     4.35G        0.93       0.961       0.519           1: 100% 37/37 [00:12<00:00,  2.96it/s]\n",
            "    96/100     4.35G       0.916       0.961       0.514           1: 100% 37/37 [00:12<00:00,  2.93it/s]\n",
            "    97/100     4.35G       0.913       0.959       0.528           1: 100% 37/37 [00:12<00:00,  2.96it/s]\n",
            "    98/100     4.35G       0.932       0.945        0.54           1: 100% 37/37 [00:12<00:00,  3.03it/s]\n",
            "    99/100     4.35G       0.914       0.959       0.526           1: 100% 37/37 [00:12<00:00,  3.07it/s]\n",
            "   100/100     4.35G       0.922       0.958       0.524           1: 100% 37/37 [00:12<00:00,  3.04it/s]\n",
            "\n",
            "Training complete (0.360 hours)\n",
            "Results saved to \u001b[1mruns/train-cls/exp2\u001b[0m\n",
            "Predict:         python classify/predict.py --weights runs/train-cls/exp2/weights/best.pt --source im.jpg\n",
            "Validate:        python classify/val.py --weights runs/train-cls/exp2/weights/best.pt --data /content/all_data_yolo\n",
            "Export:          python export.py --weights runs/train-cls/exp2/weights/best.pt --include onnx\n",
            "PyTorch Hub:     model = torch.hub.load('ultralytics/yolov5', 'custom', 'runs/train-cls/exp2/weights/best.pt')\n",
            "Visualize:       https://netron.app\n",
            "\n"
          ]
        }
      ],
      "source": [
        "!python classify/train.py --model yolov5l-cls.pt --data '/content/all_data_yolo' --epochs 100 --pretrained weights/yolov5l-cls.pt --device 0"
      ]
    },
    {
      "cell_type": "code",
      "execution_count": 20,
      "metadata": {
        "colab": {
          "base_uri": "https://localhost:8080/"
        },
        "id": "bk5L7ITCAZ8h",
        "outputId": "7ef38805-2065-48ab-d6c5-62a0d5ed1491"
      },
      "outputs": [
        {
          "output_type": "stream",
          "name": "stdout",
          "text": [
            "WARNING ⚠️ 'ultralytics.yolo.v8' is deprecated since '8.0.136' and will be removed in '8.1.0'. Please use 'ultralytics.models.yolo' instead.\n",
            "WARNING ⚠️ 'ultralytics.yolo.utils' is deprecated since '8.0.136' and will be removed in '8.1.0'. Please use 'ultralytics.utils' instead.\n",
            "Note this warning may be related to loading older models. You can update your model to current structure with:\n",
            "    import torch\n",
            "    ckpt = torch.load(\"model.pt\")  # applies to both official and custom models\n",
            "    torch.save(ckpt, \"updated-model.pt\")\n",
            "\n",
            "\u001b[34m\u001b[1mclassify/val: \u001b[0mdata=/content/all_data_yolo, weights=['/content/yolov5/runs/train-cls/exp2/weights/best.pt'], batch_size=128, imgsz=224, device=, workers=8, verbose=True, project=runs/val-cls, name=exp, exist_ok=False, half=False, dnn=False\n",
            "YOLOv5 🚀 v7.0-193-g485da42 Python-3.10.12 torch-2.0.1+cu118 CUDA:0 (Tesla T4, 15102MiB)\n",
            "\n",
            "Fusing layers... \n",
            "Model summary: 215 layers, 25258819 parameters, 0 gradients, 68.3 GFLOPs\n",
            "validating: 100% 5/5 [00:01<00:00,  2.61it/s]\n",
            "                   Class      Images    top1_acc    top5_acc\n",
            "                     all         580       0.559           1\n",
            "                   major         240       0.721           1\n",
            "                   minor         151        0.43           1\n",
            "                moderate         189       0.455           1\n",
            "Speed: 0.1ms pre-process, 1.7ms inference, 0.0ms post-process per image at shape (1, 3, 224, 224)\n",
            "Results saved to \u001b[1mruns/val-cls/exp3\u001b[0m\n"
          ]
        }
      ],
      "source": [
        "!python classify/val.py --weights /content/yolov5/runs/train-cls/exp2/weights/best.pt --data /content/all_data_yolo"
      ]
    }
  ],
  "metadata": {
    "accelerator": "GPU",
    "colab": {
      "provenance": [],
      "gpuType": "T4",
      "include_colab_link": true
    },
    "kernelspec": {
      "display_name": "Python 3",
      "name": "python3"
    },
    "language_info": {
      "name": "python"
    }
  },
  "nbformat": 4,
  "nbformat_minor": 0
}