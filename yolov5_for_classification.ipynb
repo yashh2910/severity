{
  "cells": [
    {
      "cell_type": "markdown",
      "metadata": {
        "id": "view-in-github",
        "colab_type": "text"
      },
      "source": [
        "<a href=\"https://colab.research.google.com/github/yashh2910/severity/blob/main/yolov5_for_classification.ipynb\" target=\"_parent\"><img src=\"https://colab.research.google.com/assets/colab-badge.svg\" alt=\"Open In Colab\"/></a>"
      ]
    },
    {
      "cell_type": "code",
      "execution_count": null,
      "metadata": {
        "colab": {
          "base_uri": "https://localhost:8080/"
        },
        "id": "winUBnI2_ve4",
        "outputId": "7e790009-6193-4645-cc44-6f28e6e87b4e"
      },
      "outputs": [
        {
          "output_type": "stream",
          "name": "stdout",
          "text": [
            "Cloning into 'yolov5'...\n",
            "remote: Enumerating objects: 15814, done.\u001b[K\n",
            "remote: Counting objects: 100% (46/46), done.\u001b[K\n",
            "remote: Compressing objects: 100% (44/44), done.\u001b[K\n",
            "remote: Total 15814 (delta 10), reused 25 (delta 2), pack-reused 15768\u001b[K\n",
            "Receiving objects: 100% (15814/15814), 14.64 MiB | 14.76 MiB/s, done.\n",
            "Resolving deltas: 100% (10819/10819), done.\n",
            "/content/yolov5\n",
            "\u001b[2K     \u001b[90m━━━━━━━━━━━━━━━━━━━━━━━━━━━━━━━━━━━━━━━\u001b[0m \u001b[32m188.5/188.5 kB\u001b[0m \u001b[31m7.1 MB/s\u001b[0m eta \u001b[36m0:00:00\u001b[0m\n",
            "\u001b[2K     \u001b[90m━━━━━━━━━━━━━━━━━━━━━━━━━━━━━━━━━━━━━━\u001b[0m \u001b[32m605.5/605.5 kB\u001b[0m \u001b[31m34.6 MB/s\u001b[0m eta \u001b[36m0:00:00\u001b[0m\n",
            "\u001b[2K     \u001b[90m━━━━━━━━━━━━━━━━━━━━━━━━━━━━━━━━━━━━━━━━\u001b[0m \u001b[32m62.7/62.7 kB\u001b[0m \u001b[31m8.6 MB/s\u001b[0m eta \u001b[36m0:00:00\u001b[0m\n",
            "\u001b[?25h"
          ]
        }
      ],
      "source": [
        "!git clone https://github.com/ultralytics/yolov5  # clone\n",
        "%cd yolov5\n",
        "%pip install -qr requirements.txt  # install"
      ]
    },
    {
      "cell_type": "code",
      "execution_count": null,
      "metadata": {
        "colab": {
          "base_uri": "https://localhost:8080/"
        },
        "id": "aKmC7xVW_8s8",
        "outputId": "734056e2-2abd-41a3-83a7-c5d42d321286"
      },
      "outputs": [
        {
          "output_type": "stream",
          "name": "stdout",
          "text": [
            "/content/yolov5\n"
          ]
        }
      ],
      "source": [
        "%cd /content/yolov5"
      ]
    },
    {
      "cell_type": "code",
      "execution_count": null,
      "metadata": {
        "colab": {
          "base_uri": "https://localhost:8080/",
          "height": 345
        },
        "id": "NzL9X0IGArSw",
        "outputId": "9b9c2185-1e98-47ae-c613-5f9c2f768d5d"
      },
      "outputs": [
        {
          "output_type": "error",
          "ename": "MessageError",
          "evalue": "ignored",
          "traceback": [
            "\u001b[0;31m---------------------------------------------------------------------------\u001b[0m",
            "\u001b[0;31mMessageError\u001b[0m                              Traceback (most recent call last)",
            "\u001b[0;32m<ipython-input-2-0f2c2346a560>\u001b[0m in \u001b[0;36m<cell line: 3>\u001b[0;34m()\u001b[0m\n\u001b[1;32m      1\u001b[0m \u001b[0;31m# To mount your Google Drive\u001b[0m\u001b[0;34m\u001b[0m\u001b[0;34m\u001b[0m\u001b[0m\n\u001b[1;32m      2\u001b[0m \u001b[0;32mfrom\u001b[0m \u001b[0mgoogle\u001b[0m\u001b[0;34m.\u001b[0m\u001b[0mcolab\u001b[0m \u001b[0;32mimport\u001b[0m \u001b[0mdrive\u001b[0m\u001b[0;34m\u001b[0m\u001b[0;34m\u001b[0m\u001b[0m\n\u001b[0;32m----> 3\u001b[0;31m \u001b[0mdrive\u001b[0m\u001b[0;34m.\u001b[0m\u001b[0mmount\u001b[0m\u001b[0;34m(\u001b[0m\u001b[0;34m'/content/drive'\u001b[0m\u001b[0;34m)\u001b[0m\u001b[0;34m\u001b[0m\u001b[0;34m\u001b[0m\u001b[0m\n\u001b[0m",
            "\u001b[0;32m/usr/local/lib/python3.10/dist-packages/google/colab/drive.py\u001b[0m in \u001b[0;36mmount\u001b[0;34m(mountpoint, force_remount, timeout_ms, readonly)\u001b[0m\n\u001b[1;32m    101\u001b[0m \u001b[0;32mdef\u001b[0m \u001b[0mmount\u001b[0m\u001b[0;34m(\u001b[0m\u001b[0mmountpoint\u001b[0m\u001b[0;34m,\u001b[0m \u001b[0mforce_remount\u001b[0m\u001b[0;34m=\u001b[0m\u001b[0;32mFalse\u001b[0m\u001b[0;34m,\u001b[0m \u001b[0mtimeout_ms\u001b[0m\u001b[0;34m=\u001b[0m\u001b[0;36m120000\u001b[0m\u001b[0;34m,\u001b[0m \u001b[0mreadonly\u001b[0m\u001b[0;34m=\u001b[0m\u001b[0;32mFalse\u001b[0m\u001b[0;34m)\u001b[0m\u001b[0;34m:\u001b[0m\u001b[0;34m\u001b[0m\u001b[0;34m\u001b[0m\u001b[0m\n\u001b[1;32m    102\u001b[0m   \u001b[0;34m\"\"\"Mount your Google Drive at the specified mountpoint path.\"\"\"\u001b[0m\u001b[0;34m\u001b[0m\u001b[0;34m\u001b[0m\u001b[0m\n\u001b[0;32m--> 103\u001b[0;31m   return _mount(\n\u001b[0m\u001b[1;32m    104\u001b[0m       \u001b[0mmountpoint\u001b[0m\u001b[0;34m,\u001b[0m\u001b[0;34m\u001b[0m\u001b[0;34m\u001b[0m\u001b[0m\n\u001b[1;32m    105\u001b[0m       \u001b[0mforce_remount\u001b[0m\u001b[0;34m=\u001b[0m\u001b[0mforce_remount\u001b[0m\u001b[0;34m,\u001b[0m\u001b[0;34m\u001b[0m\u001b[0;34m\u001b[0m\u001b[0m\n",
            "\u001b[0;32m/usr/local/lib/python3.10/dist-packages/google/colab/drive.py\u001b[0m in \u001b[0;36m_mount\u001b[0;34m(mountpoint, force_remount, timeout_ms, ephemeral, readonly)\u001b[0m\n\u001b[1;32m    130\u001b[0m   )\n\u001b[1;32m    131\u001b[0m   \u001b[0;32mif\u001b[0m \u001b[0mephemeral\u001b[0m\u001b[0;34m:\u001b[0m\u001b[0;34m\u001b[0m\u001b[0;34m\u001b[0m\u001b[0m\n\u001b[0;32m--> 132\u001b[0;31m     _message.blocking_request(\n\u001b[0m\u001b[1;32m    133\u001b[0m         \u001b[0;34m'request_auth'\u001b[0m\u001b[0;34m,\u001b[0m \u001b[0mrequest\u001b[0m\u001b[0;34m=\u001b[0m\u001b[0;34m{\u001b[0m\u001b[0;34m'authType'\u001b[0m\u001b[0;34m:\u001b[0m \u001b[0;34m'dfs_ephemeral'\u001b[0m\u001b[0;34m}\u001b[0m\u001b[0;34m,\u001b[0m \u001b[0mtimeout_sec\u001b[0m\u001b[0;34m=\u001b[0m\u001b[0;32mNone\u001b[0m\u001b[0;34m\u001b[0m\u001b[0;34m\u001b[0m\u001b[0m\n\u001b[1;32m    134\u001b[0m     )\n",
            "\u001b[0;32m/usr/local/lib/python3.10/dist-packages/google/colab/_message.py\u001b[0m in \u001b[0;36mblocking_request\u001b[0;34m(request_type, request, timeout_sec, parent)\u001b[0m\n\u001b[1;32m    174\u001b[0m       \u001b[0mrequest_type\u001b[0m\u001b[0;34m,\u001b[0m \u001b[0mrequest\u001b[0m\u001b[0;34m,\u001b[0m \u001b[0mparent\u001b[0m\u001b[0;34m=\u001b[0m\u001b[0mparent\u001b[0m\u001b[0;34m,\u001b[0m \u001b[0mexpect_reply\u001b[0m\u001b[0;34m=\u001b[0m\u001b[0;32mTrue\u001b[0m\u001b[0;34m\u001b[0m\u001b[0;34m\u001b[0m\u001b[0m\n\u001b[1;32m    175\u001b[0m   )\n\u001b[0;32m--> 176\u001b[0;31m   \u001b[0;32mreturn\u001b[0m \u001b[0mread_reply_from_input\u001b[0m\u001b[0;34m(\u001b[0m\u001b[0mrequest_id\u001b[0m\u001b[0;34m,\u001b[0m \u001b[0mtimeout_sec\u001b[0m\u001b[0;34m)\u001b[0m\u001b[0;34m\u001b[0m\u001b[0;34m\u001b[0m\u001b[0m\n\u001b[0m",
            "\u001b[0;32m/usr/local/lib/python3.10/dist-packages/google/colab/_message.py\u001b[0m in \u001b[0;36mread_reply_from_input\u001b[0;34m(message_id, timeout_sec)\u001b[0m\n\u001b[1;32m    101\u001b[0m     ):\n\u001b[1;32m    102\u001b[0m       \u001b[0;32mif\u001b[0m \u001b[0;34m'error'\u001b[0m \u001b[0;32min\u001b[0m \u001b[0mreply\u001b[0m\u001b[0;34m:\u001b[0m\u001b[0;34m\u001b[0m\u001b[0;34m\u001b[0m\u001b[0m\n\u001b[0;32m--> 103\u001b[0;31m         \u001b[0;32mraise\u001b[0m \u001b[0mMessageError\u001b[0m\u001b[0;34m(\u001b[0m\u001b[0mreply\u001b[0m\u001b[0;34m[\u001b[0m\u001b[0;34m'error'\u001b[0m\u001b[0;34m]\u001b[0m\u001b[0;34m)\u001b[0m\u001b[0;34m\u001b[0m\u001b[0;34m\u001b[0m\u001b[0m\n\u001b[0m\u001b[1;32m    104\u001b[0m       \u001b[0;32mreturn\u001b[0m \u001b[0mreply\u001b[0m\u001b[0;34m.\u001b[0m\u001b[0mget\u001b[0m\u001b[0;34m(\u001b[0m\u001b[0;34m'data'\u001b[0m\u001b[0;34m,\u001b[0m \u001b[0;32mNone\u001b[0m\u001b[0;34m)\u001b[0m\u001b[0;34m\u001b[0m\u001b[0;34m\u001b[0m\u001b[0m\n\u001b[1;32m    105\u001b[0m \u001b[0;34m\u001b[0m\u001b[0m\n",
            "\u001b[0;31mMessageError\u001b[0m: Error: credential propagation was unsuccessful"
          ]
        }
      ],
      "source": [
        "# To mount your Google Drive\n",
        "from google.colab import drive\n",
        "drive.mount('/content/drive')"
      ]
    },
    {
      "cell_type": "code",
      "execution_count": null,
      "metadata": {
        "id": "OWAoLS3sA5Ck"
      },
      "outputs": [],
      "source": [
        "!unzip -q '/content/door_balanced_yolo.zip' -d /content"
      ]
    },
    {
      "cell_type": "code",
      "source": [
        "# !tar -xf /content/drive/MyDrive/frontbumper.tar.xz /content"
      ],
      "metadata": {
        "id": "tCDa3s8wGkN8"
      },
      "execution_count": null,
      "outputs": []
    },
    {
      "cell_type": "code",
      "execution_count": null,
      "metadata": {
        "colab": {
          "base_uri": "https://localhost:8080/"
        },
        "id": "bm1j4PkABIRq",
        "outputId": "23dc58e4-022e-4ad9-ac59-c02c1ea4827d"
      },
      "outputs": [
        {
          "output_type": "stream",
          "name": "stdout",
          "text": [
            "/content\n",
            "/content/yolov5\n"
          ]
        }
      ],
      "source": [
        "%cd ..\n",
        "%cd /content/yolov5/"
      ]
    },
    {
      "cell_type": "code",
      "execution_count": null,
      "metadata": {
        "colab": {
          "base_uri": "https://localhost:8080/"
        },
        "id": "bmdvw_e_DEx3",
        "outputId": "5175644e-16c0-4933-f8aa-e15455657fe1"
      },
      "outputs": [
        {
          "output_type": "stream",
          "name": "stdout",
          "text": [
            "Setup complete. Using torch 2.0.1+cu118 _CudaDeviceProperties(name='Tesla T4', major=7, minor=5, total_memory=15101MB, multi_processor_count=40)\n"
          ]
        }
      ],
      "source": [
        "import torch\n",
        "print('Setup complete. Using torch %s %s' % (torch.__version__, torch.cuda.get_device_properties(0) if torch.cuda.is_available() else 'CPU'))"
      ]
    },
    {
      "cell_type": "code",
      "execution_count": null,
      "metadata": {
        "colab": {
          "base_uri": "https://localhost:8080/"
        },
        "id": "ZzUJpwaiATuY",
        "outputId": "faecc5b4-25ea-4b15-bd9a-872526bf6170"
      },
      "outputs": [
        {
          "output_type": "stream",
          "name": "stdout",
          "text": [
            "WARNING ⚠️ 'ultralytics.yolo.v8' is deprecated since '8.0.136' and will be removed in '8.1.0'. Please use 'ultralytics.models.yolo' instead.\n",
            "WARNING ⚠️ 'ultralytics.yolo.utils' is deprecated since '8.0.136' and will be removed in '8.1.0'. Please use 'ultralytics.utils' instead.\n",
            "Note this warning may be related to loading older models. You can update your model to current structure with:\n",
            "    import torch\n",
            "    ckpt = torch.load(\"model.pt\")  # applies to both official and custom models\n",
            "    torch.save(ckpt, \"updated-model.pt\")\n",
            "\n",
            "\u001b[34m\u001b[1mclassify/train: \u001b[0mmodel=yolov5l-cls.pt, data=/content/door_balanced_yolo, epochs=100, batch_size=64, imgsz=224, nosave=False, cache=None, device=0, workers=8, project=runs/train-cls, name=exp, exist_ok=False, pretrained=weights/yolov5l-cls.pt, optimizer=Adam, lr0=0.001, decay=5e-05, label_smoothing=0.1, cutoff=None, dropout=None, verbose=False, seed=0, local_rank=-1\n",
            "\u001b[34m\u001b[1mgithub: \u001b[0mup to date with https://github.com/ultralytics/yolov5 ✅\n",
            "YOLOv5 🚀 v7.0-193-g485da42 Python-3.10.12 torch-2.0.1+cu118 CUDA:0 (Tesla T4, 15102MiB)\n",
            "\n",
            "\u001b[34m\u001b[1mTensorBoard: \u001b[0mStart with 'tensorboard --logdir runs/train-cls', view at http://localhost:6006/\n",
            "\u001b[34m\u001b[1malbumentations: \u001b[0mRandomResizedCrop(p=1.0, height=224, width=224, scale=(0.08, 1.0), ratio=(0.75, 1.3333333333333333), interpolation=1), HorizontalFlip(p=0.5), ColorJitter(p=0.5, brightness=[0.6, 1.4], contrast=[0.6, 1.4], saturation=[0.6, 1.4], hue=[0, 0]), Normalize(p=1.0, mean=(0.485, 0.456, 0.406), std=(0.229, 0.224, 0.225), max_pixel_value=255.0), ToTensorV2(always_apply=True, p=1.0, transpose_mask=False)\n",
            "Downloading https://github.com/ultralytics/yolov5/releases/download/v7.0/yolov5l-cls.pt to yolov5l-cls.pt...\n",
            "100% 50.9M/50.9M [00:00<00:00, 74.6MB/s]\n",
            "\n",
            "Model summary: 275 layers, 25275523 parameters, 25275523 gradients, 68.7 GFLOPs\n",
            "\u001b[34m\u001b[1moptimizer:\u001b[0m Adam(lr=0.001) with parameter groups 60 weight(decay=0.0), 61 weight(decay=5e-05), 61 bias\n",
            "Image sizes 224 train, 224 test\n",
            "Using 1 dataloader workers\n",
            "Logging results to \u001b[1mruns/train-cls/exp\u001b[0m\n",
            "Starting yolov5l-cls.pt training on /content/door_balanced_yolo dataset with 3 classes for 100 epochs...\n",
            "\n",
            "     Epoch   GPU_mem  train_loss   test_loss    top1_acc    top5_acc\n",
            "     1/100     3.62G        1.52         1.1       0.333           1: 100% 5/5 [00:02<00:00,  1.86it/s]\n",
            "     2/100     3.62G        1.18        1.11       0.333           1: 100% 5/5 [00:01<00:00,  4.82it/s]\n",
            "     3/100     3.62G        1.19        1.11       0.333           1: 100% 5/5 [00:01<00:00,  3.15it/s]\n",
            "     4/100     3.62G        1.14         1.1       0.333           1: 100% 5/5 [00:01<00:00,  4.92it/s]\n",
            "     5/100     3.62G        1.12         1.1       0.333           1: 100% 5/5 [00:01<00:00,  4.74it/s]\n",
            "     6/100     3.62G        1.12         1.1       0.333           1: 100% 5/5 [00:01<00:00,  4.83it/s]\n",
            "     7/100     3.62G        1.11         1.1       0.333           1: 100% 5/5 [00:01<00:00,  4.63it/s]\n",
            "     8/100     3.62G        1.12         1.1       0.333           1: 100% 5/5 [00:01<00:00,  4.80it/s]\n",
            "     9/100     3.62G        1.11         1.1       0.333           1: 100% 5/5 [00:01<00:00,  4.84it/s]\n",
            "    10/100     3.62G        1.13         1.1       0.333           1: 100% 5/5 [00:01<00:00,  3.05it/s]\n",
            "    11/100     3.62G        1.09         1.1       0.333           1: 100% 5/5 [00:01<00:00,  4.73it/s]\n",
            "    12/100     3.62G        1.11         1.1       0.333           1: 100% 5/5 [00:01<00:00,  4.85it/s]\n",
            "    13/100     3.62G         1.1         1.1       0.333           1: 100% 5/5 [00:01<00:00,  4.68it/s]\n",
            "    14/100     3.62G         1.1         1.1       0.333           1: 100% 5/5 [00:01<00:00,  4.91it/s]\n",
            "    15/100     3.62G         1.1         1.1       0.333           1: 100% 5/5 [00:01<00:00,  4.83it/s]\n",
            "    16/100     3.62G        1.11         1.1       0.333           1: 100% 5/5 [00:01<00:00,  4.91it/s]\n",
            "    17/100     3.62G         1.1         1.1       0.303           1: 100% 5/5 [00:01<00:00,  3.05it/s]\n",
            "    18/100     3.62G        1.11         1.1       0.273           1: 100% 5/5 [00:01<00:00,  4.64it/s]\n",
            "    19/100     3.62G         1.1         1.1       0.303           1: 100% 5/5 [00:01<00:00,  4.78it/s]\n",
            "    20/100     3.62G         1.1         1.1       0.333           1: 100% 5/5 [00:01<00:00,  4.61it/s]\n",
            "    21/100     3.62G        1.08         1.1       0.333           1: 100% 5/5 [00:01<00:00,  4.91it/s]\n",
            "    22/100     3.62G         1.1         1.1       0.333           1: 100% 5/5 [00:01<00:00,  4.78it/s]\n",
            "    23/100     3.62G        1.11        1.26       0.394           1: 100% 5/5 [00:01<00:00,  4.70it/s]\n",
            "    24/100     3.62G        1.11        1.39       0.242           1: 100% 5/5 [00:01<00:00,  4.37it/s]\n",
            "    25/100     3.62G         1.1        2.47       0.333           1: 100% 5/5 [00:01<00:00,  3.28it/s]\n",
            "    26/100     3.62G        1.11        1.74       0.333           1: 100% 5/5 [00:01<00:00,  4.76it/s]\n",
            "    27/100     3.62G        1.09        1.93       0.333           1: 100% 5/5 [00:01<00:00,  4.81it/s]\n",
            "    28/100     3.62G        1.11        1.34       0.273           1: 100% 5/5 [00:01<00:00,  4.72it/s]\n",
            "    29/100     3.62G        1.11         1.1       0.394           1: 100% 5/5 [00:01<00:00,  4.69it/s]\n",
            "    30/100     3.62G         1.1        1.09       0.333           1: 100% 5/5 [00:01<00:00,  4.77it/s]\n",
            "    31/100     3.62G        1.09        1.09       0.394           1: 100% 5/5 [00:01<00:00,  4.77it/s]\n",
            "    32/100     3.62G        1.11         1.1       0.424           1: 100% 5/5 [00:01<00:00,  3.59it/s]\n",
            "    33/100     3.62G        1.11         1.1       0.333           1: 100% 5/5 [00:01<00:00,  3.82it/s]\n",
            "    34/100     3.62G        1.09         1.1       0.364           1: 100% 5/5 [00:01<00:00,  4.75it/s]\n",
            "    35/100     3.62G         1.1         1.1       0.364           1: 100% 5/5 [00:01<00:00,  4.63it/s]\n",
            "    36/100     3.62G         1.1         1.1       0.303           1: 100% 5/5 [00:01<00:00,  4.67it/s]\n",
            "    37/100     3.62G        1.11         1.1       0.333           1: 100% 5/5 [00:01<00:00,  4.71it/s]\n",
            "    38/100     3.62G        1.11         1.1       0.303           1: 100% 5/5 [00:01<00:00,  4.53it/s]\n",
            "    39/100     3.62G        1.08         1.1       0.303           1: 100% 5/5 [00:01<00:00,  4.58it/s]\n",
            "    40/100     3.62G        1.09         1.1       0.303           1: 100% 5/5 [00:01<00:00,  3.77it/s]\n",
            "    41/100     3.62G        1.09        1.11       0.212           1: 100% 5/5 [00:01<00:00,  3.86it/s]\n",
            "    42/100     3.62G         1.1        1.11       0.273           1: 100% 5/5 [00:01<00:00,  4.63it/s]\n",
            "    43/100     3.62G         1.1        1.11       0.212           1: 100% 5/5 [00:01<00:00,  4.74it/s]\n",
            "    44/100     3.62G         1.1        1.11       0.273           1: 100% 5/5 [00:01<00:00,  4.58it/s]\n",
            "    45/100     3.62G        1.09        1.11       0.242           1: 100% 5/5 [00:01<00:00,  4.79it/s]\n",
            "    46/100     3.62G         1.1        1.09       0.364           1: 100% 5/5 [00:01<00:00,  4.39it/s]\n",
            "    47/100     3.62G        1.09        1.09       0.424           1: 100% 5/5 [00:01<00:00,  4.71it/s]\n",
            "    48/100     3.62G         1.1        1.09       0.455           1: 100% 5/5 [00:01<00:00,  4.10it/s]\n",
            "    49/100     3.62G         1.1        1.09       0.455           1: 100% 5/5 [00:01<00:00,  4.04it/s]\n",
            "    50/100     3.62G         1.1        1.09       0.424           1: 100% 5/5 [00:01<00:00,  4.67it/s]\n",
            "    51/100     3.62G         1.1        1.09       0.303           1: 100% 5/5 [00:01<00:00,  4.50it/s]\n",
            "    52/100     3.62G         1.1        1.11       0.242           1: 100% 5/5 [00:01<00:00,  4.63it/s]\n",
            "    53/100     3.62G         1.1        1.12       0.242           1: 100% 5/5 [00:01<00:00,  4.55it/s]\n",
            "    54/100     3.62G        1.08        1.14       0.212           1: 100% 5/5 [00:01<00:00,  4.60it/s]\n",
            "    55/100     3.62G        1.07        1.17       0.182           1: 100% 5/5 [00:01<00:00,  3.61it/s]\n",
            "    56/100     3.62G        1.13        1.13       0.242           1: 100% 5/5 [00:01<00:00,  3.77it/s]\n",
            "    57/100     3.62G         1.1         1.1       0.333           1: 100% 5/5 [00:01<00:00,  3.80it/s]\n",
            "    58/100     3.62G         1.1        1.14       0.333           1: 100% 5/5 [00:01<00:00,  4.46it/s]\n",
            "    59/100     3.62G         1.1        1.12       0.333           1: 100% 5/5 [00:01<00:00,  4.51it/s]\n",
            "    60/100     3.62G         1.1        1.11       0.333           1: 100% 5/5 [00:01<00:00,  4.64it/s]\n",
            "    61/100     3.62G         1.1         1.1       0.364           1: 100% 5/5 [00:01<00:00,  4.61it/s]\n",
            "    62/100     3.62G        1.09         1.1       0.333           1: 100% 5/5 [00:01<00:00,  4.65it/s]\n",
            "    63/100     3.62G         1.1        1.11       0.273           1: 100% 5/5 [00:01<00:00,  4.46it/s]\n",
            "    64/100     3.62G         1.1        1.13       0.273           1: 100% 5/5 [00:01<00:00,  4.02it/s]\n",
            "    65/100     3.62G        1.09        1.15       0.242           1: 100% 5/5 [00:01<00:00,  3.65it/s]\n",
            "    66/100     3.62G        1.08         1.2       0.303           1: 100% 5/5 [00:01<00:00,  4.58it/s]\n",
            "    67/100     3.62G         1.1        1.12       0.303           1: 100% 5/5 [00:01<00:00,  4.58it/s]\n",
            "    68/100     3.62G        1.09        1.14       0.303           1: 100% 5/5 [00:01<00:00,  4.46it/s]\n",
            "    69/100     3.62G         1.1        1.14       0.303           1: 100% 5/5 [00:01<00:00,  4.50it/s]\n",
            "    70/100     3.62G        1.09        1.12       0.273           1: 100% 5/5 [00:01<00:00,  4.63it/s]\n",
            "    71/100     3.62G        1.09        1.12       0.303           1: 100% 5/5 [00:01<00:00,  4.52it/s]\n",
            "    72/100     3.62G        1.07        1.12       0.303           1: 100% 5/5 [00:01<00:00,  4.13it/s]\n",
            "    73/100     3.62G        1.08        1.12       0.242           1: 100% 5/5 [00:01<00:00,  3.62it/s]\n",
            "    74/100     3.62G        1.08         1.1       0.303           1: 100% 5/5 [00:01<00:00,  4.47it/s]\n",
            "    75/100     3.62G         1.1        1.08       0.303           1: 100% 5/5 [00:01<00:00,  4.53it/s]\n",
            "    76/100     3.62G        1.08        1.08       0.333           1: 100% 5/5 [00:01<00:00,  4.52it/s]\n",
            "    77/100     3.62G        1.09        1.08       0.394           1: 100% 5/5 [00:01<00:00,  4.48it/s]\n",
            "    78/100     3.62G        1.08        1.08       0.394           1: 100% 5/5 [00:01<00:00,  4.48it/s]\n",
            "    79/100     3.62G         1.1        1.08       0.394           1: 100% 5/5 [00:01<00:00,  4.48it/s]\n",
            "    80/100     3.62G        1.07         1.1       0.333           1: 100% 5/5 [00:01<00:00,  3.91it/s]\n",
            "    81/100     3.62G        1.08        1.11       0.303           1: 100% 5/5 [00:01<00:00,  3.58it/s]\n",
            "    82/100     3.62G        1.08        1.13       0.273           1: 100% 5/5 [00:01<00:00,  4.51it/s]\n",
            "    83/100     3.62G        1.07        1.15       0.273           1: 100% 5/5 [00:01<00:00,  4.46it/s]\n",
            "    84/100     3.62G        1.08        1.14       0.303           1: 100% 5/5 [00:01<00:00,  4.42it/s]\n",
            "    85/100     3.62G        1.07        1.15       0.333           1: 100% 5/5 [00:01<00:00,  4.40it/s]\n",
            "    86/100     3.62G        1.08        1.15       0.364           1: 100% 5/5 [00:01<00:00,  4.51it/s]\n",
            "    87/100     3.62G        1.06        1.15       0.303           1: 100% 5/5 [00:01<00:00,  4.52it/s]\n",
            "    88/100     3.62G         1.1        1.13       0.333           1: 100% 5/5 [00:01<00:00,  4.17it/s]\n",
            "    89/100     3.62G        1.07        1.12       0.273           1: 100% 5/5 [00:01<00:00,  3.34it/s]\n",
            "    90/100     3.62G        1.07        1.13       0.303           1: 100% 5/5 [00:01<00:00,  4.42it/s]\n",
            "    91/100     3.62G        1.06        1.14       0.303           1: 100% 5/5 [00:01<00:00,  4.36it/s]\n",
            "    92/100     3.62G        1.07        1.13       0.364           1: 100% 5/5 [00:01<00:00,  4.50it/s]\n",
            "    93/100     3.62G        1.07        1.12       0.303           1: 100% 5/5 [00:01<00:00,  4.47it/s]\n",
            "    94/100     3.62G        1.07        1.13       0.333           1: 100% 5/5 [00:01<00:00,  4.51it/s]\n",
            "    95/100     3.62G        1.07        1.12       0.333           1: 100% 5/5 [00:01<00:00,  4.46it/s]\n",
            "    96/100     3.62G        1.06        1.14       0.242           1: 100% 5/5 [00:01<00:00,  4.43it/s]\n",
            "    97/100     3.62G        1.07        1.16       0.242           1: 100% 5/5 [00:01<00:00,  3.34it/s]\n",
            "    98/100     3.62G        1.08        1.16       0.242           1: 100% 5/5 [00:01<00:00,  4.53it/s]\n",
            "    99/100     3.62G        1.07        1.16       0.242           1: 100% 5/5 [00:01<00:00,  4.47it/s]\n",
            "   100/100     3.62G        1.07        1.16       0.242           1: 100% 5/5 [00:01<00:00,  4.58it/s]\n",
            "\n",
            "Training complete (0.044 hours)\n",
            "Results saved to \u001b[1mruns/train-cls/exp\u001b[0m\n",
            "Predict:         python classify/predict.py --weights runs/train-cls/exp/weights/best.pt --source im.jpg\n",
            "Validate:        python classify/val.py --weights runs/train-cls/exp/weights/best.pt --data /content/door_balanced_yolo\n",
            "Export:          python export.py --weights runs/train-cls/exp/weights/best.pt --include onnx\n",
            "PyTorch Hub:     model = torch.hub.load('ultralytics/yolov5', 'custom', 'runs/train-cls/exp/weights/best.pt')\n",
            "Visualize:       https://netron.app\n",
            "\n"
          ]
        }
      ],
      "source": [
        "!python classify/train.py --model yolov5l-cls.pt --data '/content/door_balanced_yolo' --epochs 100 --pretrained weights/yolov5l-cls.pt --device 0"
      ]
    },
    {
      "cell_type": "code",
      "execution_count": null,
      "metadata": {
        "colab": {
          "base_uri": "https://localhost:8080/"
        },
        "id": "bk5L7ITCAZ8h",
        "outputId": "08838fd4-eb2e-4225-db93-a1376a1a0f9e"
      },
      "outputs": [
        {
          "output_type": "stream",
          "name": "stdout",
          "text": [
            "WARNING ⚠️ 'ultralytics.yolo.v8' is deprecated since '8.0.136' and will be removed in '8.1.0'. Please use 'ultralytics.models.yolo' instead.\n",
            "WARNING ⚠️ 'ultralytics.yolo.utils' is deprecated since '8.0.136' and will be removed in '8.1.0'. Please use 'ultralytics.utils' instead.\n",
            "Note this warning may be related to loading older models. You can update your model to current structure with:\n",
            "    import torch\n",
            "    ckpt = torch.load(\"model.pt\")  # applies to both official and custom models\n",
            "    torch.save(ckpt, \"updated-model.pt\")\n",
            "\n",
            "\u001b[34m\u001b[1mclassify/val: \u001b[0mdata=/content/door_balanced_yolo, weights=['/content/yolov5/runs/train-cls/exp/weights/best.pt'], batch_size=128, imgsz=224, device=, workers=8, verbose=True, project=runs/val-cls, name=exp, exist_ok=False, half=False, dnn=False\n",
            "YOLOv5 🚀 v7.0-193-g485da42 Python-3.10.12 torch-2.0.1+cu118 CUDA:0 (Tesla T4, 15102MiB)\n",
            "\n",
            "Fusing layers... \n",
            "Model summary: 215 layers, 25258819 parameters, 0 gradients, 68.3 GFLOPs\n",
            "testing: 100% 1/1 [00:00<00:00,  1.97it/s]\n",
            "                   Class      Images    top1_acc    top5_acc\n",
            "                     all          33       0.455           1\n",
            "                   major          11           1           1\n",
            "                   minor          11       0.364           1\n",
            "                moderate          11           0           1\n",
            "Speed: 0.1ms pre-process, 9.1ms inference, 0.5ms post-process per image at shape (1, 3, 224, 224)\n",
            "Results saved to \u001b[1mruns/val-cls/exp2\u001b[0m\n"
          ]
        }
      ],
      "source": [
        "!python classify/val.py --weights /content/yolov5/runs/train-cls/exp/weights/best.pt --data /content/door_balanced_yolo"
      ]
    },
    {
      "cell_type": "code",
      "source": [
        "!python classify/val.py --weights runs/train-cls/exp4/weights/best.pt --data /content/door"
      ],
      "metadata": {
        "colab": {
          "base_uri": "https://localhost:8080/"
        },
        "id": "cnChLKPSZkk1",
        "outputId": "1c86d0ea-4398-4cd4-e105-f8295feea2f3"
      },
      "execution_count": null,
      "outputs": [
        {
          "output_type": "stream",
          "name": "stdout",
          "text": [
            "\u001b[34m\u001b[1mclassify/val: \u001b[0mdata=/content/door, weights=['runs/train-cls/exp4/weights/best.pt'], batch_size=128, imgsz=224, device=, workers=8, verbose=True, project=runs/val-cls, name=exp, exist_ok=False, half=False, dnn=False\n",
            "YOLOv5 🚀 v7.0-187-g0004c74 Python-3.10.12 torch-2.0.1+cu118 CUDA:0 (Tesla T4, 15102MiB)\n",
            "\n",
            "Fusing layers... \n",
            "Model summary: 117 layers, 4170531 parameters, 0 gradients, 10.4 GFLOPs\n",
            "validating: 100% 1/1 [00:00<00:00,  1.63it/s]\n",
            "                   Class      Images    top1_acc    top5_acc\n",
            "                     all          55       0.491           1\n",
            "              major_door          23       0.957           1\n",
            "              minor_door          11           0           1\n",
            "           moderate_door          21       0.238           1\n",
            "Speed: 0.1ms pre-process, 5.3ms inference, 0.3ms post-process per image at shape (1, 3, 224, 224)\n",
            "Results saved to \u001b[1mruns/val-cls/exp3\u001b[0m\n"
          ]
        }
      ]
    },
    {
      "cell_type": "code",
      "execution_count": null,
      "metadata": {
        "id": "iabS5dSrE2O_",
        "colab": {
          "base_uri": "https://localhost:8080/"
        },
        "outputId": "5551e923-e725-4aa4-ab17-b8a869bd7163"
      },
      "outputs": [
        {
          "output_type": "stream",
          "name": "stdout",
          "text": [
            "\u001b[34m\u001b[1mclassify/predict: \u001b[0mweights=['runs/train-cls/exp4/weights/best.pt'], source=/content/125out_42955989_9.jpg, data=data/coco128.yaml, imgsz=[224, 224], device=, view_img=False, save_txt=False, nosave=False, augment=False, visualize=False, update=False, project=runs/predict-cls, name=exp, exist_ok=False, half=False, dnn=False, vid_stride=1\n",
            "YOLOv5 🚀 v7.0-187-g0004c74 Python-3.10.12 torch-2.0.1+cu118 CUDA:0 (Tesla T4, 15102MiB)\n",
            "\n",
            "Fusing layers... \n",
            "Model summary: 117 layers, 4170531 parameters, 0 gradients, 10.4 GFLOPs\n",
            "Traceback (most recent call last):\n",
            "  File \"/content/yolov5/classify/predict.py\", line 226, in <module>\n",
            "    main(opt)\n",
            "  File \"/content/yolov5/classify/predict.py\", line 221, in main\n",
            "    run(**vars(opt))\n",
            "  File \"/usr/local/lib/python3.10/dist-packages/torch/utils/_contextlib.py\", line 115, in decorate_context\n",
            "    return func(*args, **kwargs)\n",
            "  File \"/content/yolov5/classify/predict.py\", line 103, in run\n",
            "    dataset = LoadImages(source, img_size=imgsz, transforms=classify_transforms(imgsz[0]), vid_stride=vid_stride)\n",
            "  File \"/content/yolov5/utils/dataloaders.py\", line 254, in __init__\n",
            "    raise FileNotFoundError(f'{p} does not exist')\n",
            "FileNotFoundError: /content/125out_42955989_9.jpg does not exist\n"
          ]
        }
      ],
      "source": [
        "!python classify/predict.py --weights runs/train-cls/exp4/weights/best.pt --source /content/125out_42955989_9.jpg"
      ]
    },
    {
      "cell_type": "code",
      "execution_count": null,
      "metadata": {
        "id": "1J2gVvPsFKzZ",
        "colab": {
          "base_uri": "https://localhost:8080/"
        },
        "outputId": "56bd30ce-d17b-4e1d-960e-602f2e3f408c"
      },
      "outputs": [
        {
          "output_type": "stream",
          "name": "stdout",
          "text": [
            "\u001b[34m\u001b[1mclassify/predict: \u001b[0mweights=['runs/train-cls/exp4/weights/best.pt'], source=/content/Door51396689_9.jpg, data=data/coco128.yaml, imgsz=[224, 224], device=, view_img=False, save_txt=False, nosave=False, augment=False, visualize=False, update=False, project=runs/predict-cls, name=exp, exist_ok=False, half=False, dnn=False, vid_stride=1\n",
            "YOLOv5 🚀 v7.0-187-g0004c74 Python-3.10.12 torch-2.0.1+cu118 CUDA:0 (Tesla T4, 15102MiB)\n",
            "\n",
            "Fusing layers... \n",
            "Model summary: 117 layers, 4170531 parameters, 0 gradients, 10.4 GFLOPs\n",
            "Downloading https://ultralytics.com/assets/Arial.ttf to /root/.config/Ultralytics/Arial.ttf...\n",
            "image 1/1 /content/Door51396689_9.jpg: 224x224 major_door 0.43, moderate_door 0.42, minor_door 0.16, 2.7ms\n",
            "Speed: 0.3ms pre-process, 2.7ms inference, 5.4ms NMS per image at shape (1, 3, 224, 224)\n",
            "Results saved to \u001b[1mruns/predict-cls/exp4\u001b[0m\n"
          ]
        }
      ],
      "source": [
        "!python classify/predict.py --weights runs/train-cls/exp4/weights/best.pt --source /content/Door51396689_9.jpg"
      ]
    },
    {
      "cell_type": "code",
      "execution_count": null,
      "metadata": {
        "id": "BavM4YfhFgn0"
      },
      "outputs": [],
      "source": []
    }
  ],
  "metadata": {
    "accelerator": "GPU",
    "colab": {
      "provenance": [],
      "gpuType": "T4",
      "include_colab_link": true
    },
    "kernelspec": {
      "display_name": "Python 3",
      "name": "python3"
    },
    "language_info": {
      "name": "python"
    }
  },
  "nbformat": 4,
  "nbformat_minor": 0
}